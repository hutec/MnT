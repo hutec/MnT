{
 "cells": [
  {
   "cell_type": "code",
   "execution_count": 39,
   "metadata": {
    "collapsed": true
   },
   "outputs": [],
   "source": [
    "import pandas as pd\n",
    "import numpy as np\n",
    "\n",
    "from datetime import datetime\n",
    "\n",
    "%matplotlib inline"
   ]
  },
  {
   "cell_type": "markdown",
   "metadata": {},
   "source": [
    "## Thema 4: Einfluss der Politik in „zukunftsweisende“ Technologien Verlauf der Patentanmeldungen im Bereich Fotovoltaik --> Wer sind führende Patentanmelder?\n"
   ]
  },
  {
   "cell_type": "code",
   "execution_count": 51,
   "metadata": {
    "collapsed": false
   },
   "outputs": [
    {
     "data": {
      "text/plain": [
       "<matplotlib.text.Text at 0x7f9e9d812790>"
      ]
     },
     "execution_count": 51,
     "metadata": {},
     "output_type": "execute_result"
    },
    {
     "data": {
      "image/png": "[encoded data removed]",
      "text/plain": [
       "<matplotlib.figure.Figure at 0x7f9e9d944750>"
      ]
     },
     "metadata": {},
     "output_type": "display_data"
    }
   ],
   "source": [
    "df = pd.read_csv(\"fotovoltaik.csv\", sep=\";\")\n",
    "df['Anmeldedatum'] = df['Anmeldedatum'].apply(lambda d: datetime.strptime(d, '%d.%m.%Y'))\n",
    "date_group = df.groupby(\"Anmeldedatum\").size()\n",
    "# https://stackoverflow.com/questions/17001389/pandas-resample-documentation\n",
    "ax = date_group.resample(\"4M\", how=\"sum\").fillna(0).plot()\n",
    "ax.set_ylabel(\"Angemeldete Patente\")"
   ]
  },
  {
   "cell_type": "code",
   "execution_count": 70,
   "metadata": {
    "collapsed": false
   },
   "outputs": [],
   "source": [
    "applicant_group = df.groupby(\"Anmelder/Inhaber\").size()\n",
    "applicant_group.sort_values(inplace=True, ascending=False)\n",
    "applicant_group.name = \"Angemeldete Patente\"\n",
    "applicant_df = pd.DataFrame(applicant_group)"
   ]
  },
  {
   "cell_type": "code",
   "execution_count": 71,
   "metadata": {
    "collapsed": false
   },
   "outputs": [
    {
     "data": {
      "text/plain": [
       "Index([u'Angemeldete Patente'], dtype='object')"
      ]
     },
     "execution_count": 71,
     "metadata": {},
     "output_type": "execute_result"
    }
   ],
   "source": [
    "applicant_df.columns"
   ]
  }
 ],
 "metadata": {
  "kernelspec": {
   "display_name": "Python 2",
   "language": "python",
   "name": "python2"
  },
  "language_info": {
   "codemirror_mode": {
    "name": "ipython",
    "version": 2
   },
   "file_extension": ".py",
   "mimetype": "text/x-python",
   "name": "python",
   "nbconvert_exporter": "python",
   "pygments_lexer": "ipython2",
   "version": "2.7.11+"
  }
 },
 "nbformat": 4,
 "nbformat_minor": 0
}
